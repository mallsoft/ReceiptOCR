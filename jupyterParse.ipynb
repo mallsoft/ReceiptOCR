{
 "cells": [
  {
   "cell_type": "code",
   "execution_count": 1,
   "metadata": {},
   "outputs": [],
   "source": [
    "import json\n",
    "\n",
    "data = []\n",
    "with open(\"ocr_results.json\") as thefile:\n",
    "    data = json.load(thefile)"
   ]
  },
  {
   "cell_type": "code",
   "execution_count": 79,
   "metadata": {},
   "outputs": [],
   "source": [
    "import re\n",
    "\n",
    "by_store_name = {}\n",
    "\n",
    "stores = {\n",
    "  \"KIWI\": r\"KIWI\",\n",
    "  \"SPAR\": r\"SPAR\",\n",
    "  \"REMA1000\": r\"REMA\",\n",
    "  \"BUNNPRIS\" : r\"BUNNPRIS\",\n",
    "  \"COOP\":r\"COOP\",\n",
    "  \"MENY\":r\"MENY\",\n",
    "  \"MINDE\":r\"MINDE\",\n",
    "  \"LEROYMAT\": r\"LER[O|Ø|0]Y\",\n",
    "  \"EUROPRIS\": r\"EUROPRIS\",\n",
    "}\n",
    "\n",
    "\n",
    "# Sort by store\n",
    "for str in data:\n",
    "  found = False\n",
    "  for k,pattern in stores.items():\n",
    "    if(re.search(pattern, str)):\n",
    "      by_store_name.setdefault(k,[]).append(str)\n",
    "      found = True\n",
    "      break\n"
   ]
  },
  {
   "cell_type": "code",
   "execution_count": 81,
   "metadata": {},
   "outputs": [
    {
     "name": "stdout",
     "output_type": "stream",
     "text": [
      "('KIWI', 471)\n",
      "('REMA1000', 161)\n",
      "('SPAR', 114)\n",
      "('COOP', 79)\n",
      "('MENY', 77)\n",
      "('BUNNPRIS', 33)\n",
      "('LEROYMAT', 3)\n",
      "938\n",
      "total receipts 974 where 36 did not match any regex\n"
     ]
    }
   ],
   "source": [
    "hit_count = [(name,len(count)) for name,count in by_store_name.items()]\n",
    "hit_count.sort(key=lambda t: t[1],reverse=True)\n",
    "total_count = 0\n",
    "\n",
    "for store in hit_count:\n",
    "  total_count += store[1]\n",
    "  print(store)\n",
    "print(total_count)\n",
    "print(f\"total receipts {len(data)} where {len(data) - total_count} did not match any regex\")"
   ]
  }
 ],
 "metadata": {
  "kernelspec": {
   "display_name": "Python 3",
   "language": "python",
   "name": "python3"
  },
  "language_info": {
   "codemirror_mode": {
    "name": "ipython",
    "version": 3
   },
   "file_extension": ".py",
   "mimetype": "text/x-python",
   "name": "python",
   "nbconvert_exporter": "python",
   "pygments_lexer": "ipython3",
   "version": "3.11.1"
  },
  "orig_nbformat": 4,
  "vscode": {
   "interpreter": {
    "hash": "76227c7499ab3bd458712becfa7beefc1f4b73e7aa18ea88c58127eb9205966e"
   }
  }
 },
 "nbformat": 4,
 "nbformat_minor": 2
}
