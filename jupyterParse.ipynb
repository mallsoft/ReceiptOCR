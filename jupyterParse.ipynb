{
 "cells": [
  {
   "cell_type": "code",
   "execution_count": 53,
   "metadata": {},
   "outputs": [],
   "source": [
    "# get receipt data\n",
    "\n",
    "import json\n",
    "\n",
    "with open(\"ocr_results.json\") as thefile:\n",
    "    receipts = json.load(thefile)"
   ]
  },
  {
   "cell_type": "code",
   "execution_count": 60,
   "metadata": {},
   "outputs": [],
   "source": [
    "# search patterns\n",
    "\n",
    "import re\n",
    "\n",
    "NO_NAME = \"_no_name_found_\"\n",
    "NO_TIMESTAMP = \"_no_timestapmp_found_\"\n",
    "NO_ITEMS_FOUND = \"_no_items_found_\"\n",
    "\n",
    "def getStoreName(str):\n",
    "  regexes = {\n",
    "    \"KIWI\": r\"KIWI\",\n",
    "    \"SPAR\": r\"SPAR\",\n",
    "    \"REMA\": r\"REMA\",\n",
    "    \"BUNNPRIS\" : r\"BUNNPRIS\",\n",
    "    \"COOP\":r\"COOP\",\n",
    "    \"MENY\":r\"MENY\",\n",
    "    \"LEROYMAT\": r\"LERØY\",\n",
    "    \"EUROPRIS\": r\"EUROPRIS\",\n",
    "  }\n",
    "  for k,pattern in regexes.items():\n",
    "    if(re.search(pattern, str)):\n",
    "      return k\n",
    "  return \"_no_name_found_\"\n",
    "\n",
    "def getTimeStamp(str):\n",
    "  # observed formats\n",
    "  # the spacing between data and time can be arbitrary\n",
    "  #DD.MM.YY HH:MM\n",
    "  #DD.MM.YY HH:MM:SS\n",
    "  #YYYY-MM-DD HH:MM\n",
    "  #DD/MM/YYYY HH:MM\n",
    "  #DD.MM.YYYY HH:MM:SS\n",
    "  \n",
    "  # day\n",
    "  # 01-09 - 0[1-9]\n",
    "  # 10-29 -> [1-2][0-9]\n",
    "  # 30-31 -> 3[0-1]\n",
    "  DD = \"0[1-9]|[0-2][0-9]|3[0-1]\"\n",
    "\n",
    "  # month\n",
    "  # 01-09 -> 0[0-9]\n",
    "  # 10-12 -> 1[0-2]\n",
    "  MM = \"0[0-9]|1[0-2]\"\n",
    "\n",
    "  # year\n",
    "  # 00-29 -> [0-2][0-9]\n",
    "  # +20 -> 20\n",
    "  YY = \"[0-2][0-9]\"\n",
    "  YYYY = \"20\"+YY\n",
    "\n",
    "  # HH24\n",
    "  # 00-19 -> [0-1][0-9]\n",
    "  # 20-24 -> 2[0-24]\n",
    "  hh = \"[0-1][0-9]|2[0-4]\"\n",
    "\n",
    "  # MM & SS\n",
    "  # 00-59 -> [0-5][0-9]\n",
    "  mm = ss = \"[0-5][0-9]\"\n",
    "\n",
    "  DDMMYY_YY = f\"(?:{DD})[ .](?:{MM})[ .](?:{YY}|{YYYY})\"\n",
    "  hhmm_ss = f\"\\s+(?:{hh})[:.](?:{mm})(?:[:.]{ss})?\"\n",
    " \n",
    "  # can match yyyy-mm\\dd etc.. but whatever...\n",
    "  YYYYMMDD = f\"{YYYY}(?:[-\\\\])(?:{mm})(?:[-\\\\])(?:{DD})\"\n",
    "\n",
    "\n",
    "  format_1_2 = DDMMYY_YY+hhmm_ss\n",
    "  format_3_4 = YYYYMMDD+hhmm_ss\n",
    "\n",
    "  patterns = (\n",
    "    re.compile(format_1_2),\n",
    "    re.compile(format_3_4)\n",
    "  )\n",
    "\n",
    "  for pattern in patterns:\n",
    "    match = re.search(pattern,str)\n",
    "    if(match): \n",
    "      return match[0]\n",
    "  return NO_TIMESTAMP\n",
    "\n",
    "def getItems(str):\n",
    "  ITEM_MVA_COST = \"(.*) \\d?\\d%\\s?(\\d{0,3}[,.]\\d0)\"\n",
    "  entry = re.findall(re.compile(ITEM_MVA_COST), str)\n",
    "\n",
    "  return entry if entry else NO_ITEMS_FOUND\n",
    "\n"
   ]
  },
  {
   "cell_type": "code",
   "execution_count": 61,
   "metadata": {},
   "outputs": [
    {
     "name": "stdout",
     "output_type": "stream",
     "text": [
      "KIWI\n",
      "02.04.22 19:26\n",
      "[('KNEIPP 7506 FIRST PRICE', '6,90'), ('SØRLANDSIS KROKAN 2L', '39,90'), ('KOKESJOKOLADE LYS 1006', '9,40'), ('HARSPRAY 300ML F.PRICE', '12,40'), ('Bete US U/SUKKER BX', '6,90'), ('TACOSAUS STERK 2306', '9,90'), ('TONATER HAKKEDE 3906 F.', '8,40')]\n"
     ]
    }
   ],
   "source": [
    "print(getStoreName(receipts[66][1]))\n",
    "print(getTimeStamp(receipts[66][1]))\n",
    "print(getItems(receipts[66][1]))\n"
   ]
  },
  {
   "cell_type": "code",
   "execution_count": 64,
   "metadata": {},
   "outputs": [],
   "source": [
    "per_store = {} # (k store, v)\n",
    "\n",
    "for receipt in receipts:\n",
    "  filename = receipt[0]\n",
    "  receipt_str = receipt[1]\n",
    "  \n",
    "  name = getStoreName(receipt_str)\n",
    "  time_stamp = getTimeStamp(receipt_str)\n",
    "  items = getItems(receipt_str)\n",
    "\n",
    "  per_store.setdefault(name,[]).append({\"ts\": time_stamp, \"name\": name, \"filename\": filename, \"items\": items })"
   ]
  },
  {
   "cell_type": "code",
   "execution_count": 73,
   "metadata": {},
   "outputs": [
    {
     "name": "stdout",
     "output_type": "stream",
     "text": [
      "receits n=974\n",
      "('KIWI', 458)\n",
      "('REMA', 150)\n",
      "('SPAR', 112)\n",
      "('_no_name_found_', 80)\n",
      "('MENY', 75)\n",
      "('COOP', 70)\n",
      "('BUNNPRIS', 25)\n",
      "('LEROYMAT', 4)\n"
     ]
    }
   ],
   "source": [
    "by_name = [(name,data) for name,data in per_store.items()]\n",
    "by_name.sort(key=lambda t: len(t[1]),reverse=True)\n",
    "\n",
    "print(f\"receits n={len(receipts)}\")\n",
    "\n",
    "for name,data in by_name:\n",
    "  print((name,len(data)))"
   ]
  },
  {
   "cell_type": "code",
   "execution_count": 83,
   "metadata": {},
   "outputs": [
    {
     "name": "stdout",
     "output_type": "stream",
     "text": [
      "---- LEROYMAT ----\n",
      "----01.12.22 16:20----\n",
      "('+ Pant', '2,00')\n",
      "('ALOHA TROPISK IPA 0,33L', '41,90')\n",
      "('+ Pant', '2,00')\n",
      "----16.04.21 15:52----\n",
      "('DRAUMUR LAKRIS&MELKESJO', '16,90')\n",
      "('SCONES M/ROSIN', '35,00')\n",
      "('SMOOTHIE 75CL GUAVA&GOJ', '36,90')\n",
      "('+ Pant', '3,00')\n",
      "----02.12.20 12:34----\n",
      "('HOLIDAY HAZE 0,33L BX', '44,90')\n",
      "('JARRULL VEGETAR 80G 12s', '49,20')\n",
      "----19.12.19 18:01----\n",
      "('+ Pant', '2,00')\n",
      "('KLOKK&CO JUICY IPA 0,33', '39,90')\n"
     ]
    }
   ],
   "source": [
    "for name, data in by_name:\n",
    "  if(name == \"LEROYMAT\"):\n",
    "    print(f\"---- {name} ----\")\n",
    "    for entry in data:\n",
    "      print(f\"----{entry['ts']}----\")\n",
    "      for item in entry[\"items\"]:\n",
    "        print(item)\n"
   ]
  }
 ],
 "metadata": {
  "kernelspec": {
   "display_name": "Python 3",
   "language": "python",
   "name": "python3"
  },
  "language_info": {
   "codemirror_mode": {
    "name": "ipython",
    "version": 3
   },
   "file_extension": ".py",
   "mimetype": "text/x-python",
   "name": "python",
   "nbconvert_exporter": "python",
   "pygments_lexer": "ipython3",
   "version": "3.11.1"
  },
  "orig_nbformat": 4,
  "vscode": {
   "interpreter": {
    "hash": "76227c7499ab3bd458712becfa7beefc1f4b73e7aa18ea88c58127eb9205966e"
   }
  }
 },
 "nbformat": 4,
 "nbformat_minor": 2
}
