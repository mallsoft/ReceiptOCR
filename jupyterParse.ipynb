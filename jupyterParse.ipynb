{
 "cells": [
  {
   "cell_type": "code",
   "execution_count": 5,
   "metadata": {},
   "outputs": [],
   "source": [
    "import json\n",
    "\n",
    "data = []\n",
    "with open(\"ocr_results.json\") as thefile:\n",
    "    data = json.load(thefile)"
   ]
  },
  {
   "cell_type": "code",
   "execution_count": 1,
   "metadata": {},
   "outputs": [],
   "source": [
    "# search patterns\n",
    "\n",
    "import re\n",
    "\n",
    "def getStoreName(str):\n",
    "  regexes = {\n",
    "    \"KIWI\": r\"KIWI\",\n",
    "    \"SPAR\": r\"SPAR\",\n",
    "    \"REMA\": r\"REMA\",\n",
    "    \"BUNNPRIS\" : r\"BUNNPRIS\",\n",
    "    \"COOP\":r\"COOP\",\n",
    "    \"MENY\":r\"MENY\",\n",
    "    \"LEROYMAT\": r\"LERØY\",\n",
    "    \"EUROPRIS\": r\"EUROPRIS\",\n",
    "  }\n",
    "  for k,pattern in regexes.items():\n",
    "    if(re.search(pattern, str)):\n",
    "      return k\n",
    "\n",
    "def getTimeStamp(str):\n",
    "  # observed formats\n",
    "  # the spacing between data and time can be arbitrary\n",
    "  #DD.MM.YY HH:MM\n",
    "  #DD.MM.YY HH:MM:SS\n",
    "  #YYYY-MM-DD HH:MM\n",
    "  #DD/MM/YYYY HH:MM\n",
    "  \n",
    "  # day\n",
    "  # 01-09 - 0[1-9]\n",
    "  # 10-29 -> [1-2][0-9]\n",
    "  # 30-31 -> 3[0-1]\n",
    "  DD = \"0[1-9]|[0-2][0-9]|3[0-1]\"\n",
    "\n",
    "  # month\n",
    "  # 01-09 -> 0[0-9]\n",
    "  # 10-12 -> 1[0-2]\n",
    "  MM = \"0[0-9]|1[0-2]\"\n",
    "\n",
    "  # year\n",
    "  # 00-29 -> [0-2][0-9]\n",
    "  # +20 -> 20\n",
    "  YY = \"[0-2][0-9]\"\n",
    "  YYYY = \"20\"+YY\n",
    "\n",
    "  # HH24\n",
    "  # 00-19 -> [0-1][0-9]\n",
    "  # 20-24 -> 2[0-24]\n",
    "  hh = \"[0-1][0-9]|2[0-4]\"\n",
    "\n",
    "  # MM & SS\n",
    "  # 00-59 -> [0-5][0-9]\n",
    "  mm = ss = \"[0-5][0-9]\"\n",
    "\n",
    "  DDMMYY = f\"(?:{DD})\\.(?:{MM})\\.(?:{YY})\"\n",
    "  hhmm_ss = f\"\\s+(?:{hh}):(?:{mm})(?::{ss})?\"\n",
    " \n",
    "\n",
    "  # can match yyyy-mm\\dd etc.. but whatever...\n",
    "  YYYYMMDD = f\"{YYYY}(?:[-\\\\])(?:{mm})(?:[-\\\\])(?:{DD})\"\n",
    "\n",
    "\n",
    "  format_1_2 = DDMMYY+hhmm_ss\n",
    "  format_3_4 = YYYYMMDD+hhmm_ss\n",
    "\n",
    "  patterns = (\n",
    "    re.compile(format_1_2),\n",
    "    re.compile(format_3_4)\n",
    "  )\n",
    "\n",
    "  for pattern in patterns:\n",
    "    match = re.search(pattern,str)\n",
    "    if(match): \n",
    "      return match\n",
    "    return None\n",
    "\n",
    "def getItems(str,storeName):\n",
    "  pass\n",
    "\n"
   ]
  },
  {
   "cell_type": "code",
   "execution_count": 2,
   "metadata": {},
   "outputs": [
    {
     "ename": "NameError",
     "evalue": "name 'by_store_name' is not defined",
     "output_type": "error",
     "traceback": [
      "\u001b[1;31m---------------------------------------------------------------------------\u001b[0m",
      "\u001b[1;31mNameError\u001b[0m                                 Traceback (most recent call last)",
      "Cell \u001b[1;32mIn[2], line 1\u001b[0m\n\u001b[1;32m----> 1\u001b[0m hit_count \u001b[39m=\u001b[39m [(name,\u001b[39mlen\u001b[39m(count)) \u001b[39mfor\u001b[39;00m name,count \u001b[39min\u001b[39;00m by_store_name\u001b[39m.\u001b[39mitems()]\n\u001b[0;32m      2\u001b[0m hit_count\u001b[39m.\u001b[39msort(key\u001b[39m=\u001b[39m\u001b[39mlambda\u001b[39;00m t: t[\u001b[39m1\u001b[39m],reverse\u001b[39m=\u001b[39m\u001b[39mTrue\u001b[39;00m)\n\u001b[0;32m      3\u001b[0m total_count \u001b[39m=\u001b[39m \u001b[39m0\u001b[39m\n",
      "\u001b[1;31mNameError\u001b[0m: name 'by_store_name' is not defined"
     ]
    }
   ],
   "source": [
    "hit_count = [(name,len(count)) for name,count in by_store_name.items()]\n",
    "hit_count.sort(key=lambda t: t[1],reverse=True)\n",
    "total_count = 0\n",
    "# by_store_name.setdefault(k,[]).append(str)\n",
    "for store in hit_count:\n",
    "  total_count += store[1]\n",
    "  print(store)\n",
    "print(total_count)\n",
    "print(f\"total receipts {len(data)} where {len(data) - total_count} did not match any regex\")"
   ]
  }
 ],
 "metadata": {
  "kernelspec": {
   "display_name": "Python 3",
   "language": "python",
   "name": "python3"
  },
  "language_info": {
   "codemirror_mode": {
    "name": "ipython",
    "version": 3
   },
   "file_extension": ".py",
   "mimetype": "text/x-python",
   "name": "python",
   "nbconvert_exporter": "python",
   "pygments_lexer": "ipython3",
   "version": "3.11.1"
  },
  "orig_nbformat": 4,
  "vscode": {
   "interpreter": {
    "hash": "76227c7499ab3bd458712becfa7beefc1f4b73e7aa18ea88c58127eb9205966e"
   }
  }
 },
 "nbformat": 4,
 "nbformat_minor": 2
}
