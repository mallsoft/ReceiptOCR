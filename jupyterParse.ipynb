{
 "cells": [
  {
   "cell_type": "code",
   "execution_count": 6,
   "metadata": {},
   "outputs": [],
   "source": [
    "import json\n",
    "\n",
    "data = []\n",
    "with open(\"ocr_results.json\") as thefile:\n",
    "    data = json.load(thefile)"
   ]
  },
  {
   "cell_type": "code",
   "execution_count": 5,
   "metadata": {},
   "outputs": [],
   "source": [
    "import re\n",
    "\n",
    "# REMA 1000\n",
    "# KIWI\n",
    "# SPAR\n",
    "# BUNNPRIS\n",
    "# LERØY MAT\n",
    "# MENY\n",
    "# MINDE\n",
    "# COOP XTRA\n",
    "# COOP OBS\n",
    "\n",
    "stores = {\n",
    "  \"KIWI\": re.compile(r\"KIWI\\s\")\n",
    "}"
   ]
  },
  {
   "cell_type": "code",
   "execution_count": 4,
   "metadata": {},
   "outputs": [],
   "source": [
    "receipts = {}\n",
    "\n",
    "for receipt in data:\n",
    "  if(KIWI.match(receipt)):\n",
    "    receipts[\"KIWI\"].apped(receipt)"
   ]
  },
  {
   "cell_type": "code",
   "execution_count": 1,
   "metadata": {},
   "outputs": [
    {
     "ename": "NameError",
     "evalue": "name 'receipts' is not defined",
     "output_type": "error",
     "traceback": [
      "\u001b[1;31m---------------------------------------------------------------------------\u001b[0m",
      "\u001b[1;31mNameError\u001b[0m                                 Traceback (most recent call last)",
      "Cell \u001b[1;32mIn[1], line 1\u001b[0m\n\u001b[1;32m----> 1\u001b[0m \u001b[39mprint\u001b[39m(receipts)\n",
      "\u001b[1;31mNameError\u001b[0m: name 'receipts' is not defined"
     ]
    }
   ],
   "source": [
    "print(receipts)"
   ]
  }
 ],
 "metadata": {
  "kernelspec": {
   "display_name": "Python 3",
   "language": "python",
   "name": "python3"
  },
  "language_info": {
   "codemirror_mode": {
    "name": "ipython",
    "version": 3
   },
   "file_extension": ".py",
   "mimetype": "text/x-python",
   "name": "python",
   "nbconvert_exporter": "python",
   "pygments_lexer": "ipython3",
   "version": "3.11.1"
  },
  "orig_nbformat": 4,
  "vscode": {
   "interpreter": {
    "hash": "76227c7499ab3bd458712becfa7beefc1f4b73e7aa18ea88c58127eb9205966e"
   }
  }
 },
 "nbformat": 4,
 "nbformat_minor": 2
}
